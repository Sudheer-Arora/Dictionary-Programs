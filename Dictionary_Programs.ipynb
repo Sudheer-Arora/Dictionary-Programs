{
  "nbformat": 4,
  "nbformat_minor": 0,
  "metadata": {
    "colab": {
      "provenance": [],
      "authorship_tag": "ABX9TyMMIDzYW1swVAOMScaJwpz7",
      "include_colab_link": true
    },
    "kernelspec": {
      "name": "python3",
      "display_name": "Python 3"
    },
    "language_info": {
      "name": "python"
    }
  },
  "cells": [
    {
      "cell_type": "markdown",
      "metadata": {
        "id": "view-in-github",
        "colab_type": "text"
      },
      "source": [
        "<a href=\"https://colab.research.google.com/github/Sudheer-Arora/Dictionary-Programs/blob/main/Dictionary_Programs.ipynb\" target=\"_parent\"><img src=\"https://colab.research.google.com/assets/colab-badge.svg\" alt=\"Open In Colab\"/></a>"
      ]
    },
    {
      "cell_type": "code",
      "execution_count": 8,
      "metadata": {
        "colab": {
          "base_uri": "https://localhost:8080/"
        },
        "id": "ClT1uaFxFP1L",
        "outputId": "0c5226bc-7f54-44d1-d362-34cff5e42610"
      },
      "outputs": [
        {
          "output_type": "stream",
          "name": "stdout",
          "text": [
            "{1: 'A', 2: 'B', 3: 'C', 4: 'D', 5: 'E'}\n",
            "1 \t A\n",
            "2 \t B\n",
            "3 \t C\n",
            "4 \t D\n",
            "5 \t E\n",
            "A\n",
            "B\n",
            "C\n",
            "D\n",
            "E\n",
            "{1: 'S', 2: 'B', 3: 'C', 4: 'D', 5: 'E', 6: 'Z'}\n"
          ]
        }
      ],
      "source": [
        "#WAP to print dictionary values.\n",
        "d={1:'A',2:'B',3:'C',4:'D',5:'E'}\n",
        "print(d)\n",
        "for i in d.keys():\n",
        "    print(i,'\\t',d[i])\n",
        "for i in d.values():\n",
        "    print(i)\n",
        "d[1]='S'\n",
        "d[6]='Z'\n",
        "print(d)"
      ]
    },
    {
      "cell_type": "code",
      "source": [
        "# WAP to enter name and percentage of an student in a dictionary display information on the screen.\n",
        "d={ }\n",
        "n=int(input('Enter the number of student:'))\n",
        "i=0\n",
        "while (i<n):\n",
        "    name=input('Enter your name:')\n",
        "    marks=int(input('Enter percentage:'))\n",
        "    d[name]=marks\n",
        "    i=i+1\n",
        "\n",
        "print(d)"
      ],
      "metadata": {
        "colab": {
          "base_uri": "https://localhost:8080/"
        },
        "id": "sW4WvipoGKIP",
        "outputId": "b44784e8-b442-4e33-ec25-9b3235fa6a48"
      },
      "execution_count": 10,
      "outputs": [
        {
          "output_type": "stream",
          "name": "stdout",
          "text": [
            "Enter the number of student:2\n",
            "Enter your name:A\n",
            "Enter percentage:78\n",
            "Enter your name:B\n",
            "Enter percentage:79\n",
            "{'A': 78, 'B': 79}\n"
          ]
        }
      ]
    },
    {
      "cell_type": "code",
      "source": [
        "#Enter dictionary and find the sum of values\n",
        "d=eval(input('enter dictionary'))\n",
        "print(d)\n",
        "x=0\n",
        "for i in d.values():\n",
        "    x=x+i\n",
        "print(x)"
      ],
      "metadata": {
        "colab": {
          "base_uri": "https://localhost:8080/"
        },
        "id": "1aXzoKrQGiZ3",
        "outputId": "ede4fda2-602d-4d45-85da-3a821eea9b3d"
      },
      "execution_count": 12,
      "outputs": [
        {
          "output_type": "stream",
          "name": "stdout",
          "text": [
            "enter dictionary{'A': 78, 'B': 79}\n",
            "{'A': 78, 'B': 79}\n",
            "157\n"
          ]
        }
      ]
    },
    {
      "cell_type": "code",
      "source": [
        "#WAP to find number of accrence of each letter present given string.\n",
        "d={ }\n",
        "x=input('Enter the string:')\n",
        "l=list(x)\n",
        "print(l)\n",
        "for i in l:\n",
        "    d[i]=l.count(i)\n",
        "print(d)"
      ],
      "metadata": {
        "colab": {
          "base_uri": "https://localhost:8080/"
        },
        "id": "h5cZx-82HAPb",
        "outputId": "93862c14-6bb4-44de-9315-3cef7ccc77fc"
      },
      "execution_count": 15,
      "outputs": [
        {
          "output_type": "stream",
          "name": "stdout",
          "text": [
            "Enter the string:adsknsi3ne2kj2nqr32knw\n",
            "['a', 'd', 's', 'k', 'n', 's', 'i', '3', 'n', 'e', '2', 'k', 'j', '2', 'n', 'q', 'r', '3', '2', 'k', 'n', 'w']\n",
            "{'a': 1, 'd': 1, 's': 2, 'k': 3, 'n': 4, 'i': 1, '3': 2, 'e': 1, '2': 3, 'j': 1, 'q': 1, 'r': 1, 'w': 1}\n"
          ]
        }
      ]
    }
  ]
}